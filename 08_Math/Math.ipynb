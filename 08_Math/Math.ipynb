{
 "cells": [
  {
   "cell_type": "code",
   "execution_count": 2,
   "metadata": {},
   "outputs": [
    {
     "name": "stdout",
     "output_type": "stream",
     "text": [
      "3.141592653589793\n",
      "2.718281828459045\n"
     ]
    }
   ],
   "source": [
    "%%script node\n",
    "\n",
    "console.log(Math.PI);\n",
    "console.log(Math.E);\n"
   ]
  },
  {
   "cell_type": "code",
   "execution_count": 5,
   "metadata": {},
   "outputs": [
    {
     "name": "stdout",
     "output_type": "stream",
     "text": [
      "3.141592653589793\n",
      "3\n",
      "3\n",
      "3\n",
      "4\n",
      "3.141592653589793\n",
      "1.7724538509055159\n",
      "9.869604401089358\n"
     ]
    }
   ],
   "source": [
    "%%script node\n",
    "\n",
    "\n",
    "let x = Math.PI;\n",
    "console.log(x);\n",
    "console.log(Math.round(x));\n",
    "console.log(Math.round(x, 3));\n",
    "\n",
    "\n",
    "console.log(Math.floor(x));\n",
    "console.log(Math.ceil(x));\n",
    "console.log(Math.abs(x));\n",
    "console.log(Math.sqrt(x));\n",
    "console.log(Math.pow(x, 2));"
   ]
  },
  {
   "cell_type": "code",
   "execution_count": 8,
   "metadata": {},
   "outputs": [
    {
     "name": "stdout",
     "output_type": "stream",
     "text": [
      "5\n"
     ]
    }
   ],
   "source": [
    "%%script node\n",
    "\n",
    "console.log(Math.max(1, 2, 3, 4, 5));"
   ]
  },
  {
   "cell_type": "code",
   "execution_count": null,
   "metadata": {},
   "outputs": [],
   "source": [
    "%%script node\n",
    "\n",
    "let randomNumber = Math.random();\n",
    "console.log(randomNumber);\n",
    "console.log(Math.floor(randomNumber * 10));"
   ]
  }
 ],
 "metadata": {
  "kernelspec": {
   "display_name": "Python 3",
   "language": "python",
   "name": "python3"
  },
  "language_info": {
   "codemirror_mode": {
    "name": "ipython",
    "version": 3
   },
   "file_extension": ".py",
   "mimetype": "text/x-python",
   "name": "python",
   "nbconvert_exporter": "python",
   "pygments_lexer": "ipython3",
   "version": "3.10.12"
  }
 },
 "nbformat": 4,
 "nbformat_minor": 2
}
