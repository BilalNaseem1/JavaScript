{
 "cells": [
  {
   "cell_type": "code",
   "execution_count": 4,
   "metadata": {},
   "outputs": [
    {
     "name": "stdout",
     "output_type": "stream",
     "text": [
      "31\n",
      "62\n",
      "15.5\n",
      "1\n",
      "961\n"
     ]
    }
   ],
   "source": [
    "%%script node\n",
    "\n",
    "let students = 30;\n",
    "students = students + 1;\n",
    "\n",
    "console.log(students);\n",
    "console.log(students *2);\n",
    "console.log(students / 2);\n",
    "console.log(students % 2);\n",
    "console.log(students ** 2);\n"
   ]
  },
  {
   "cell_type": "code",
   "execution_count": 8,
   "metadata": {},
   "outputs": [
    {
     "name": "stdout",
     "output_type": "stream",
     "text": [
      "31\n",
      "62\n",
      "31\n",
      "1\n",
      "1\n"
     ]
    }
   ],
   "source": [
    "%%script node\n",
    "// Augmented Assignment Operator\n",
    "\n",
    "\n",
    "students = 30;\n",
    "\n",
    "students += 1;\n",
    "console.log(students);\n",
    "\n",
    "students *= 2;\n",
    "console.log(students);\n",
    "\n",
    "students /= 2;\n",
    "console.log(students);\n",
    "\n",
    "students %= 2;\n",
    "console.log(students);\n",
    "\n",
    "students **= 2;\n",
    "console.log(students);"
   ]
  },
  {
   "cell_type": "code",
   "execution_count": 9,
   "metadata": {},
   "outputs": [
    {
     "name": "stdout",
     "output_type": "stream",
     "text": [
      "31\n",
      "30\n"
     ]
    }
   ],
   "source": [
    "%%script node\n",
    "// Increment and Decrement Operator\n",
    "\n",
    "\n",
    "let students = 30;\n",
    "students++;\n",
    "console.log(students);\n",
    "\n",
    "students--;\n",
    "console.log(students);"
   ]
  },
  {
   "cell_type": "code",
   "execution_count": null,
   "metadata": {},
   "outputs": [],
   "source": [
    "%%script node\n",
    "// Operator Precedence\n",
    "\n",
    "/*\n",
    "PEMDAS\n",
    "\n",
    "1. ()\n",
    "2. ** (exponentiation)\n",
    "3. * / %\n",
    "4. + -\n",
    "\n",
    "\n",
    "*/\n"
   ]
  }
 ],
 "metadata": {
  "kernelspec": {
   "display_name": "Python 3",
   "language": "python",
   "name": "python3"
  },
  "language_info": {
   "codemirror_mode": {
    "name": "ipython",
    "version": 3
   },
   "file_extension": ".py",
   "mimetype": "text/x-python",
   "name": "python",
   "nbconvert_exporter": "python",
   "pygments_lexer": "ipython3",
   "version": "3.10.12"
  }
 },
 "nbformat": 4,
 "nbformat_minor": 2
}
